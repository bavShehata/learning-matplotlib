{
 "cells": [
  {
   "cell_type": "code",
   "execution_count": 85,
   "id": "c77ad00a",
   "metadata": {},
   "outputs": [],
   "source": [
    "import pandas as pd\n",
    "import numpy as np\n",
    "import matplotlib.pyplot as plt\n",
    "from collections import Counter\n"
   ]
  },
  {
   "cell_type": "code",
   "execution_count": 86,
   "id": "56f06353",
   "metadata": {},
   "outputs": [],
   "source": [
    "# Download csv file from github\n",
    "from urllib.request import urlretrieve"
   ]
  },
  {
   "cell_type": "code",
   "execution_count": 87,
   "id": "fa3fd586",
   "metadata": {},
   "outputs": [
    {
     "data": {
      "text/plain": [
       "('data.csv', <http.client.HTTPMessage at 0x7f43f01587c0>)"
      ]
     },
     "execution_count": 87,
     "metadata": {},
     "output_type": "execute_result"
    }
   ],
   "source": [
    "url = \"https://raw.githubusercontent.com/CoreyMSchafer/code_snippets/master/Python/Matplotlib/06-Histograms/data.csv\"\n",
    "filename = \"data.csv\"\n",
    "urlretrieve(url, filename)"
   ]
  },
  {
   "cell_type": "code",
   "execution_count": 88,
   "id": "5c5dfe5f",
   "metadata": {},
   "outputs": [
    {
     "data": {
      "text/plain": [
       "['Solarize_Light2',\n",
       " '_classic_test_patch',\n",
       " 'bmh',\n",
       " 'classic',\n",
       " 'dark_background',\n",
       " 'fast',\n",
       " 'fivethirtyeight',\n",
       " 'ggplot',\n",
       " 'grayscale',\n",
       " 'seaborn',\n",
       " 'seaborn-bright',\n",
       " 'seaborn-colorblind',\n",
       " 'seaborn-dark',\n",
       " 'seaborn-dark-palette',\n",
       " 'seaborn-darkgrid',\n",
       " 'seaborn-deep',\n",
       " 'seaborn-muted',\n",
       " 'seaborn-notebook',\n",
       " 'seaborn-paper',\n",
       " 'seaborn-pastel',\n",
       " 'seaborn-poster',\n",
       " 'seaborn-talk',\n",
       " 'seaborn-ticks',\n",
       " 'seaborn-white',\n",
       " 'seaborn-whitegrid',\n",
       " 'tableau-colorblind10']"
      ]
     },
     "execution_count": 88,
     "metadata": {},
     "output_type": "execute_result"
    }
   ],
   "source": [
    "plt.style.available"
   ]
  },
  {
   "cell_type": "code",
   "execution_count": 89,
   "id": "7d836dd5",
   "metadata": {},
   "outputs": [],
   "source": [
    "plt.style.use('fivethirtyeight')"
   ]
  },
  {
   "cell_type": "code",
   "execution_count": 90,
   "id": "4dfc0f62",
   "metadata": {},
   "outputs": [],
   "source": [
    "#interactive plotting in separate window\n",
    "%matplotlib qt "
   ]
  },
  {
   "cell_type": "code",
   "execution_count": 91,
   "id": "8cfd9c36",
   "metadata": {},
   "outputs": [],
   "source": [
    "#normal charts inside notebooks\n",
    "%matplotlib inline"
   ]
  },
  {
   "cell_type": "code",
   "execution_count": 92,
   "id": "b977dda0",
   "metadata": {},
   "outputs": [
    {
     "name": "stdout",
     "output_type": "stream",
     "text": [
      "[main 8962a7f] Histogram with dummy data\r\n",
      " 2 files changed, 79456 insertions(+), 278 deletions(-)\r\n",
      " rewrite Untitled.ipynb (90%)\r\n",
      " rewrite data.csv (60%)\r\n"
     ]
    }
   ],
   "source": [
    "!git add .;git commit -m \"Histogram with dummy data\"\n",
    "#!git commit -m \"Adding legends\""
   ]
  },
  {
   "cell_type": "code",
   "execution_count": 93,
   "id": "5b7622f9",
   "metadata": {},
   "outputs": [],
   "source": [
    "data = pd.read_csv(url)"
   ]
  },
  {
   "cell_type": "code",
   "execution_count": 102,
   "id": "88b970b9",
   "metadata": {},
   "outputs": [],
   "source": [
    "ids = data['Responder_id']\n",
    "ages = data['Age']\n",
    "\n",
    "median_age = 29\n",
    "color = '#fc4f30'\n"
   ]
  },
  {
   "cell_type": "code",
   "execution_count": 104,
   "id": "5c369eaf",
   "metadata": {},
   "outputs": [
    {
     "data": {
      "text/plain": [
       "Text(0, 0.5, 'Total Respondents')"
      ]
     },
     "execution_count": 104,
     "metadata": {},
     "output_type": "execute_result"
    },
    {
     "data": {
      "image/png": "[encoded data removed]",
      "text/plain": [
       "<Figure size 432x288 with 1 Axes>"
      ]
     },
     "metadata": {
      "needs_background": "light"
     },
     "output_type": "display_data"
    }
   ],
   "source": [
    "bins = [x for x in range(10,101, 10)]\n",
    "\n",
    "plt.hist(ages, bins=bins, edgecolor=\"k\", log=True)\n",
    "\n",
    "plt.axvline(median_age, color=color, label=\"Median\")\n",
    "plt.legend()\n",
    "\n",
    "plt.title('Ages of Respondents')\n",
    "plt.xlabel('Ages')\n",
    "plt.ylabel('Total Respondents')"
   ]
  },
  {
   "cell_type": "code",
   "execution_count": null,
   "id": "e2788701",
   "metadata": {},
   "outputs": [],
   "source": []
  }
 ],
 "metadata": {
  "kernelspec": {
   "display_name": "Python 3 (ipykernel)",
   "language": "python",
   "name": "python3"
  },
  "language_info": {
   "codemirror_mode": {
    "name": "ipython",
    "version": 3
   },
   "file_extension": ".py",
   "mimetype": "text/x-python",
   "name": "python",
   "nbconvert_exporter": "python",
   "pygments_lexer": "ipython3",
   "version": "3.9.7"
  }
 },
 "nbformat": 4,
 "nbformat_minor": 5
}
