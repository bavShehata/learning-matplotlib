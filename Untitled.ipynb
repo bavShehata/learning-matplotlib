{
 "cells": [
  {
   "cell_type": "code",
   "execution_count": 85,
   "id": "c77ad00a",
   "metadata": {},
   "outputs": [],
   "source": [
    "import pandas as pd\n",
    "import numpy as np\n",
    "import matplotlib.pyplot as plt\n",
    "from collections import Counter\n"
   ]
  },
  {
   "cell_type": "code",
   "execution_count": 86,
   "id": "56f06353",
   "metadata": {},
   "outputs": [],
   "source": [
    "# Download csv file from github\n",
    "from urllib.request import urlretrieve"
   ]
  },
  {
   "cell_type": "code",
   "execution_count": 108,
   "id": "fa3fd586",
   "metadata": {},
   "outputs": [
    {
     "data": {
      "text/plain": [
       "('data.csv', <http.client.HTTPMessage at 0x7f43efcea5e0>)"
      ]
     },
     "execution_count": 108,
     "metadata": {},
     "output_type": "execute_result"
    }
   ],
   "source": [
    "url = \"https://raw.githubusercontent.com/CoreyMSchafer/code_snippets/master/Python/Matplotlib/07-ScatterPlots/2019-05-31-data.csv\"\n",
    "filename = \"data.csv\"\n",
    "urlretrieve(url, filename)"
   ]
  },
  {
   "cell_type": "code",
   "execution_count": 88,
   "id": "5c5dfe5f",
   "metadata": {},
   "outputs": [
    {
     "data": {
      "text/plain": [
       "['Solarize_Light2',\n",
       " '_classic_test_patch',\n",
       " 'bmh',\n",
       " 'classic',\n",
       " 'dark_background',\n",
       " 'fast',\n",
       " 'fivethirtyeight',\n",
       " 'ggplot',\n",
       " 'grayscale',\n",
       " 'seaborn',\n",
       " 'seaborn-bright',\n",
       " 'seaborn-colorblind',\n",
       " 'seaborn-dark',\n",
       " 'seaborn-dark-palette',\n",
       " 'seaborn-darkgrid',\n",
       " 'seaborn-deep',\n",
       " 'seaborn-muted',\n",
       " 'seaborn-notebook',\n",
       " 'seaborn-paper',\n",
       " 'seaborn-pastel',\n",
       " 'seaborn-poster',\n",
       " 'seaborn-talk',\n",
       " 'seaborn-ticks',\n",
       " 'seaborn-white',\n",
       " 'seaborn-whitegrid',\n",
       " 'tableau-colorblind10']"
      ]
     },
     "execution_count": 88,
     "metadata": {},
     "output_type": "execute_result"
    }
   ],
   "source": [
    "plt.style.available"
   ]
  },
  {
   "cell_type": "code",
   "execution_count": 109,
   "id": "7d836dd5",
   "metadata": {},
   "outputs": [],
   "source": [
    "plt.style.use('seaborn')"
   ]
  },
  {
   "cell_type": "code",
   "execution_count": 90,
   "id": "4dfc0f62",
   "metadata": {},
   "outputs": [],
   "source": [
    "#interactive plotting in separate window\n",
    "%matplotlib qt "
   ]
  },
  {
   "cell_type": "code",
   "execution_count": 91,
   "id": "8cfd9c36",
   "metadata": {},
   "outputs": [],
   "source": [
    "#normal charts inside notebooks\n",
    "%matplotlib inline"
   ]
  },
  {
   "cell_type": "code",
   "execution_count": 106,
   "id": "b977dda0",
   "metadata": {},
   "outputs": [
    {
     "name": "stdout",
     "output_type": "stream",
     "text": [
      "[main e8d6728] Histogram with real data + Formatting\r\n",
      " 1 file changed, 246 insertions(+), 245 deletions(-)\r\n",
      " rewrite Untitled.ipynb (74%)\r\n"
     ]
    }
   ],
   "source": [
    "!git add .;git commit -m \"Histogram with real data + Formatting\"\n",
    "#!git commit -m \"Adding legends\""
   ]
  },
  {
   "cell_type": "code",
   "execution_count": 93,
   "id": "c5996f91",
   "metadata": {},
   "outputs": [],
   "source": [
    "data = pd.read_csv(url)"
   ]
  },
  {
   "cell_type": "code",
   "execution_count": 111,
   "id": "88b970b9",
   "metadata": {},
   "outputs": [],
   "source": [
    "x = [5, 7, 8, 5, 6, 7, 9, 2, 3, 4, 4, 4, 2, 6, 3, 6, 8, 6, 4, 1]\n",
    "y = [7, 4, 3, 9, 1, 3, 2, 5, 2, 4, 8, 7, 1, 6, 4, 9, 7, 7, 5, 1]\n",
    "\n",
    "\n",
    "# colors = [7, 5, 9, 7, 5, 7, 2, 5, 3, 7, 1, 2, 8, 1, 9, 2, 5, 6, 7, 5]\n",
    "\n",
    "# sizes = [209, 486, 381, 255, 191, 315, 185, 228, 174,\n",
    "#          538, 239, 394, 399, 153, 273, 293, 436, 501, 397, 539]\n",
    "\n",
    "# data = pd.read_csv('2019-05-31-data.csv')\n",
    "# view_count = data['view_count']\n",
    "# likes = data['likes']\n",
    "# ratio = data['ratio']\n",
    "\n"
   ]
  },
  {
   "cell_type": "code",
   "execution_count": 116,
   "id": "5c369eaf",
   "metadata": {},
   "outputs": [
    {
     "data": {
      "image/png": "[encoded data removed]",
      "text/plain": [
       "<Figure size 576x396 with 1 Axes>"
      ]
     },
     "metadata": {},
     "output_type": "display_data"
    }
   ],
   "source": [
    "plt.scatter(x,y, s=100, c=\"m\", ma);\n",
    "# plt.title('Trending YouTube Videos')\n",
    "# plt.xlabel('View Count')\n",
    "# plt.ylabel('Total Likes')"
   ]
  },
  {
   "cell_type": "code",
   "execution_count": null,
   "id": "6b092cf7",
   "metadata": {},
   "outputs": [],
   "source": []
  }
 ],
 "metadata": {
  "kernelspec": {
   "display_name": "Python 3 (ipykernel)",
   "language": "python",
   "name": "python3"
  },
  "language_info": {
   "codemirror_mode": {
    "name": "ipython",
    "version": 3
   },
   "file_extension": ".py",
   "mimetype": "text/x-python",
   "name": "python",
   "nbconvert_exporter": "python",
   "pygments_lexer": "ipython3",
   "version": "3.9.7"
  }
 },
 "nbformat": 4,
 "nbformat_minor": 5
}
