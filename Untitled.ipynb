{
 "cells": [
  {
   "cell_type": "code",
   "execution_count": 2,
   "id": "c77ad00a",
   "metadata": {},
   "outputs": [],
   "source": [
    "import pandas as pd\n",
    "import numpy as np\n",
    "import matplotlib.pyplot as plt\n",
    "from collections import Counter\n"
   ]
  },
  {
   "cell_type": "code",
   "execution_count": 3,
   "id": "56f06353",
   "metadata": {},
   "outputs": [],
   "source": [
    "# Download csv file from github\n",
    "from urllib.request import urlretrieve"
   ]
  },
  {
   "cell_type": "code",
   "execution_count": 4,
   "id": "fa3fd586",
   "metadata": {},
   "outputs": [
    {
     "data": {
      "text/plain": [
       "('data.csv', <http.client.HTTPMessage at 0x7f43f6a093a0>)"
      ]
     },
     "execution_count": 4,
     "metadata": {},
     "output_type": "execute_result"
    }
   ],
   "source": [
    "url = \"https://raw.githubusercontent.com/CoreyMSchafer/code_snippets/master/Python/Matplotlib/02-BarCharts/data.csv\"\n",
    "filename = \"data.csv\"\n",
    "urlretrieve(url, filename)"
   ]
  },
  {
   "cell_type": "code",
   "execution_count": 5,
   "id": "5c5dfe5f",
   "metadata": {},
   "outputs": [
    {
     "data": {
      "text/plain": [
       "['Solarize_Light2',\n",
       " '_classic_test_patch',\n",
       " 'bmh',\n",
       " 'classic',\n",
       " 'dark_background',\n",
       " 'fast',\n",
       " 'fivethirtyeight',\n",
       " 'ggplot',\n",
       " 'grayscale',\n",
       " 'seaborn',\n",
       " 'seaborn-bright',\n",
       " 'seaborn-colorblind',\n",
       " 'seaborn-dark',\n",
       " 'seaborn-dark-palette',\n",
       " 'seaborn-darkgrid',\n",
       " 'seaborn-deep',\n",
       " 'seaborn-muted',\n",
       " 'seaborn-notebook',\n",
       " 'seaborn-paper',\n",
       " 'seaborn-pastel',\n",
       " 'seaborn-poster',\n",
       " 'seaborn-talk',\n",
       " 'seaborn-ticks',\n",
       " 'seaborn-white',\n",
       " 'seaborn-whitegrid',\n",
       " 'tableau-colorblind10']"
      ]
     },
     "execution_count": 5,
     "metadata": {},
     "output_type": "execute_result"
    }
   ],
   "source": [
    "plt.style.available"
   ]
  },
  {
   "cell_type": "code",
   "execution_count": 6,
   "id": "7d836dd5",
   "metadata": {},
   "outputs": [],
   "source": [
    "plt.style.use('fivethirtyeight')"
   ]
  },
  {
   "cell_type": "code",
   "execution_count": 7,
   "id": "4dfc0f62",
   "metadata": {},
   "outputs": [],
   "source": [
    "#interactive plotting in separate window\n",
    "%matplotlib qt "
   ]
  },
  {
   "cell_type": "code",
   "execution_count": 8,
   "id": "8cfd9c36",
   "metadata": {},
   "outputs": [],
   "source": [
    "#normal charts inside notebooks\n",
    "%matplotlib inline"
   ]
  },
  {
   "cell_type": "code",
   "execution_count": 44,
   "id": "b977dda0",
   "metadata": {},
   "outputs": [
    {
     "name": "stdout",
     "output_type": "stream",
     "text": [
      "[main f579b41] More formatting Pie Chart\r\n",
      " 1 file changed, 216 insertions(+), 213 deletions(-)\r\n",
      " rewrite Untitled.ipynb (79%)\r\n"
     ]
    }
   ],
   "source": [
    "!git add .;git commit -m \"More formatting Pie Chart\"\n",
    "#!git commit -m \"Adding legends\""
   ]
  },
  {
   "cell_type": "code",
   "execution_count": 46,
   "id": "88b970b9",
   "metadata": {},
   "outputs": [],
   "source": [
    "minutes = [1, 2, 3, 4, 5, 6, 7, 8, 9]\n",
    "\n",
    "player1 = [1, 2, 3, 3, 4, 4, 4, 4, 5]\n",
    "player2 = [1, 1, 1, 1, 2, 2, 2, 3, 4]\n",
    "player3 = [1, 1, 1, 2, 2, 2, 3, 3, 3]"
   ]
  },
  {
   "cell_type": "code",
   "execution_count": 52,
   "id": "5c369eaf",
   "metadata": {},
   "outputs": [
    {
     "data": {
      "image/png": "[encoded data removed]",
      "text/plain": [
       "<Figure size 432x288 with 1 Axes>"
      ]
     },
     "metadata": {
      "needs_background": "light"
     },
     "output_type": "display_data"
    }
   ],
   "source": [
    "labels = ['player1','player2','player3']\n",
    "plt.stackplot(minutes,  player1, player2, player3, labels=labels)\n",
    "plt.legend(loc='upper left')\n",
    "plt.title(\"My awesome stack plot\")\n",
    "plt.tight_layout()"
   ]
  },
  {
   "cell_type": "code",
   "execution_count": null,
   "id": "d363ee88",
   "metadata": {},
   "outputs": [],
   "source": []
  }
 ],
 "metadata": {
  "kernelspec": {
   "display_name": "Python 3 (ipykernel)",
   "language": "python",
   "name": "python3"
  },
  "language_info": {
   "codemirror_mode": {
    "name": "ipython",
    "version": 3
   },
   "file_extension": ".py",
   "mimetype": "text/x-python",
   "name": "python",
   "nbconvert_exporter": "python",
   "pygments_lexer": "ipython3",
   "version": "3.9.7"
  }
 },
 "nbformat": 4,
 "nbformat_minor": 5
}
