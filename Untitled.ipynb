{
 "cells": [
  {
   "cell_type": "code",
   "execution_count": 91,
   "id": "c77ad00a",
   "metadata": {},
   "outputs": [],
   "source": [
    "import pandas as pd\n",
    "import numpy as np\n",
    "import matplotlib.pyplot as plt\n",
    "from collections import Counter\n"
   ]
  },
  {
   "cell_type": "code",
   "execution_count": 82,
   "id": "56f06353",
   "metadata": {},
   "outputs": [],
   "source": [
    "# Download csv file from github\n",
    "from urllib.request import urlretrieve"
   ]
  },
  {
   "cell_type": "code",
   "execution_count": 83,
   "id": "fa3fd586",
   "metadata": {},
   "outputs": [
    {
     "data": {
      "text/plain": [
       "('data.csv', <http.client.HTTPMessage at 0x7f56933af9d0>)"
      ]
     },
     "execution_count": 83,
     "metadata": {},
     "output_type": "execute_result"
    }
   ],
   "source": [
    "url = \"https://raw.githubusercontent.com/CoreyMSchafer/code_snippets/master/Python/Matplotlib/02-BarCharts/data.csv\"\n",
    "filename = \"data.csv\"\n",
    "urlretrieve(url, filename)"
   ]
  },
  {
   "cell_type": "code",
   "execution_count": 44,
   "id": "5c5dfe5f",
   "metadata": {},
   "outputs": [
    {
     "data": {
      "text/plain": [
       "['Solarize_Light2',\n",
       " '_classic_test_patch',\n",
       " 'bmh',\n",
       " 'classic',\n",
       " 'dark_background',\n",
       " 'fast',\n",
       " 'fivethirtyeight',\n",
       " 'ggplot',\n",
       " 'grayscale',\n",
       " 'seaborn',\n",
       " 'seaborn-bright',\n",
       " 'seaborn-colorblind',\n",
       " 'seaborn-dark',\n",
       " 'seaborn-dark-palette',\n",
       " 'seaborn-darkgrid',\n",
       " 'seaborn-deep',\n",
       " 'seaborn-muted',\n",
       " 'seaborn-notebook',\n",
       " 'seaborn-paper',\n",
       " 'seaborn-pastel',\n",
       " 'seaborn-poster',\n",
       " 'seaborn-talk',\n",
       " 'seaborn-ticks',\n",
       " 'seaborn-white',\n",
       " 'seaborn-whitegrid',\n",
       " 'tableau-colorblind10']"
      ]
     },
     "execution_count": 44,
     "metadata": {},
     "output_type": "execute_result"
    }
   ],
   "source": [
    "plt.style.available"
   ]
  },
  {
   "cell_type": "code",
   "execution_count": 59,
   "id": "7d836dd5",
   "metadata": {},
   "outputs": [],
   "source": [
    "plt.style.use('bmh')"
   ]
  },
  {
   "cell_type": "code",
   "execution_count": 6,
   "id": "4dfc0f62",
   "metadata": {},
   "outputs": [],
   "source": [
    "#interactive plotting in separate window\n",
    "%matplotlib qt "
   ]
  },
  {
   "cell_type": "code",
   "execution_count": 10,
   "id": "8cfd9c36",
   "metadata": {},
   "outputs": [],
   "source": [
    "#normal charts inside notebooks\n",
    "%matplotlib inline"
   ]
  },
  {
   "cell_type": "code",
   "execution_count": 81,
   "id": "b977dda0",
   "metadata": {},
   "outputs": [
    {
     "name": "stdout",
     "output_type": "stream",
     "text": [
      "[main cebb703] Vertical Bar Charts\r\n",
      " 2 files changed, 229 insertions(+), 196 deletions(-)\r\n",
      " rewrite Untitled.ipynb (93%)\r\n",
      " rewrite plot.png (99%)\r\n"
     ]
    }
   ],
   "source": [
    "!git add .;git commit -m \"Vertical Bar\"\n",
    "#!git commit -m \"Adding legends\""
   ]
  },
  {
   "cell_type": "code",
   "execution_count": 131,
   "id": "88b970b9",
   "metadata": {},
   "outputs": [],
   "source": [
    "data = pd.read_csv('data.csv')\n",
    "ids = data['Responder_id']\n",
    "lang_responses = data['LanguagesWorkedWith']\n",
    "\n",
    "language_counter = Counter()\n",
    "\n",
    "for response in lang_responses:\n",
    "    language_counter.update(response.split(';'))\n",
    "\n",
    "languages, popularity = [list(a) for a in zip(*sorted(language_counter.items(), key=lambda item: item[1], reverse=True))]\n",
    "\n",
    "languages.reverse()\n",
    "popularity.reverse()"
   ]
  },
  {
   "cell_type": "code",
   "execution_count": 132,
   "id": "ecf72797",
   "metadata": {},
   "outputs": [
    {
     "data": {
      "text/plain": [
       "[777,\n",
       " 973,\n",
       " 1015,\n",
       " 1254,\n",
       " 1260,\n",
       " 1683,\n",
       " 2794,\n",
       " 3309,\n",
       " 4191,\n",
       " 4781,\n",
       " 5048,\n",
       " 5620,\n",
       " 5744,\n",
       " 5833,\n",
       " 7201,\n",
       " 7331,\n",
       " 7920,\n",
       " 18017,\n",
       " 18523,\n",
       " 20524,\n",
       " 23030,\n",
       " 27097,\n",
       " 31991,\n",
       " 35917,\n",
       " 36443,\n",
       " 47544,\n",
       " 55466,\n",
       " 59219]"
      ]
     },
     "execution_count": 132,
     "metadata": {},
     "output_type": "execute_result"
    }
   ],
   "source": [
    "popularity"
   ]
  },
  {
   "cell_type": "code",
   "execution_count": 117,
   "id": "072911d5",
   "metadata": {},
   "outputs": [
    {
     "data": {
      "text/plain": [
       "dict_items([('HTML/CSS', 55466), ('Java', 35917), ('JavaScript', 59219), ('Python', 36443), ('C++', 20524), ('C', 18017), ('C#', 27097), ('SQL', 47544), ('VBA', 4781), ('R', 5048), ('Bash/Shell/PowerShell', 31991), ('Ruby', 7331), ('Rust', 2794), ('TypeScript', 18523), ('WebAssembly', 1015), ('Other(s):', 7920), ('Go', 7201), ('PHP', 23030), ('Assembly', 5833), ('Kotlin', 5620), ('Swift', 5744), ('Objective-C', 4191), ('Elixir', 1260), ('Erlang', 777), ('Clojure', 1254), ('F#', 973), ('Scala', 3309), ('Dart', 1683)])"
      ]
     },
     "execution_count": 117,
     "metadata": {},
     "output_type": "execute_result"
    }
   ],
   "source": [
    "language_counter.items()"
   ]
  },
  {
   "cell_type": "code",
   "execution_count": 130,
   "id": "f27deef0",
   "metadata": {},
   "outputs": [
    {
     "name": "stdout",
     "output_type": "stream",
     "text": [
      "('JavaScript', 59219) ('HTML/CSS', 55466) ('SQL', 47544) ('Python', 36443) ('Java', 35917) ('Bash/Shell/PowerShell', 31991) ('C#', 27097) ('PHP', 23030) ('C++', 20524) ('TypeScript', 18523) ('C', 18017) ('Other(s):', 7920) ('Ruby', 7331) ('Go', 7201) ('Assembly', 5833) ('Swift', 5744) ('Kotlin', 5620) ('R', 5048) ('VBA', 4781) ('Objective-C', 4191) ('Scala', 3309) ('Rust', 2794) ('Dart', 1683) ('Elixir', 1260) ('Clojure', 1254) ('WebAssembly', 1015) ('F#', 973) ('Erlang', 777)\n"
     ]
    }
   ],
   "source": [
    "print(*sorted(language_counter.items(), key=lambda item: item[1], reverse=True))"
   ]
  },
  {
   "cell_type": "code",
   "execution_count": 122,
   "id": "8d7b306e",
   "metadata": {},
   "outputs": [
    {
     "name": "stdout",
     "output_type": "stream",
     "text": [
      "[('HTML/CSS', 'Java', 'JavaScript', 'Python', 'C++', 'C', 'C#', 'SQL', 'VBA', 'R', 'Bash/Shell/PowerShell', 'Ruby', 'Rust', 'TypeScript', 'WebAssembly', 'Other(s):', 'Go', 'PHP', 'Assembly', 'Kotlin', 'Swift', 'Objective-C', 'Elixir', 'Erlang', 'Clojure', 'F#', 'Scala', 'Dart'), (55466, 35917, 59219, 36443, 20524, 18017, 27097, 47544, 4781, 5048, 31991, 7331, 2794, 18523, 1015, 7920, 7201, 23030, 5833, 5620, 5744, 4191, 1260, 777, 1254, 973, 3309, 1683)]\n"
     ]
    }
   ],
   "source": [
    "print(list(zip(*language_counter.items())))"
   ]
  },
  {
   "cell_type": "code",
   "execution_count": 124,
   "id": "b397cf82",
   "metadata": {},
   "outputs": [],
   "source": []
  },
  {
   "cell_type": "code",
   "execution_count": 141,
   "id": "5c369eaf",
   "metadata": {},
   "outputs": [
    {
     "data": {
      "image/png": "[encoded data removed]",
      "text/plain": [
       "<Figure size 432x288 with 1 Axes>"
      ]
     },
     "metadata": {},
     "output_type": "display_data"
    }
   ],
   "source": [
    "plt.barh(languages, popularity)\n",
    "\n",
    "plt.title(\"Most Popular Languages\")\n",
    "# plt.ylabel(\"Programming Languages\")\n",
    "plt.xlabel(\"Number of People Who Use\")\n",
    "\n",
    "plt.tight_layout()\n",
    "\n",
    "plt.show()"
   ]
  }
 ],
 "metadata": {
  "kernelspec": {
   "display_name": "Python 3 (ipykernel)",
   "language": "python",
   "name": "python3"
  },
  "language_info": {
   "codemirror_mode": {
    "name": "ipython",
    "version": 3
   },
   "file_extension": ".py",
   "mimetype": "text/x-python",
   "name": "python",
   "nbconvert_exporter": "python",
   "pygments_lexer": "ipython3",
   "version": "3.9.7"
  }
 },
 "nbformat": 4,
 "nbformat_minor": 5
}
